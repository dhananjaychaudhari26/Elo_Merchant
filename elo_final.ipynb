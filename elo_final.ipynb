{
 "cells": [
  {
   "cell_type": "markdown",
   "metadata": {},
   "source": [
    "## Demo is deployed on heroku using streamlit\n",
    "https://elo-merchant.herokuapp.com/\n",
    "<p>Previously I have used all datapoints for deployment but it started giving memory error so I have sampled only 1000 points for demo in heroku."
   ]
  },
  {
   "cell_type": "code",
   "execution_count": 1,
   "metadata": {},
   "outputs": [],
   "source": [
    "import time\n",
    "import pickle\n",
    "import pandas as pd"
   ]
  },
  {
   "cell_type": "markdown",
   "metadata": {},
   "source": [
    "<p>Download pickle files from google drive link</p>"
   ]
  },
  {
   "cell_type": "markdown",
   "metadata": {},
   "source": [
    "https://drive.google.com/file/d/1gWxPUmqqlGk64dRm-4rCpTxue7cNbD0U/view?usp=sharing"
   ]
  },
  {
   "cell_type": "code",
   "execution_count": 2,
   "metadata": {},
   "outputs": [],
   "source": [
    "# We have store entire preprocessed data frame dusring training phase\n",
    "#laod dataframe\n",
    "data_frame = pickle.load(open('Pickle/processedData.pkl', 'rb'))\n",
    "\n",
    "#Loaf stored Model\n",
    "model  = pickle.load(open('Pickle/final_model.pkl', 'rb'))\n",
    "\n",
    "# load test dataframe for testing\n",
    "test_df = pd.read_csv('Pickle/test.csv', index_col=['card_id'])\n",
    "\n",
    "#defined which features we dont want for predictions\n",
    "FEATS_EXCLUDED = ['first_active_month', 'target', 'card_id', 'outliers','hist_purchase_date_max', 'hist_purchase_date_min', 'hist_card_id_size','new_purchase_date_max', 'new_purchase_date_min', 'new_card_id_size','OOF_PRED', 'month_0']\n",
    "feats = [f for f in data_frame.columns if f not in FEATS_EXCLUDED]"
   ]
  },
  {
   "cell_type": "code",
   "execution_count": 6,
   "metadata": {},
   "outputs": [],
   "source": [
    "# final function will calculate loyalti score for given card number and features\n",
    "def final(card_id,final_features):\n",
    "    '''\n",
    "    function will predict loyalty score and time for prediction\n",
    "    input: \n",
    "      card_id: unique card id for which we want prediction\n",
    "      final_features : all features realated to perticular card id\n",
    "     \n",
    "    output:\n",
    "      returns predicted loyalty score and time\n",
    "    '''\n",
    "    start_time = time.time()\n",
    "    score = model.predict([final_features[feats].values],num_iteration=model.best_iteration)[0]\n",
    "    total_time = time.time()-start_time\n",
    "#     print(\"total time is\",total_time)\n",
    "    return score,total_time"
   ]
  },
  {
   "cell_type": "code",
   "execution_count": 7,
   "metadata": {},
   "outputs": [],
   "source": [
    "#function will accept card_id and fetch features for given cust id and pass data to final function\n",
    "def function1(card_id):\n",
    "    '''\n",
    "    function will predict loyalty score and time for prediction\n",
    "    input: \n",
    "      card_id: unique card id for which we want prediction\n",
    "     \n",
    "    output:\n",
    "      returns predicted loyalty score and time\n",
    "    '''\n",
    "\n",
    "    #get final features related to given card id\n",
    "    final_features = data_frame.loc[card_id]\n",
    "    prediction,time = final(card_id,final_features)\n",
    "\n",
    "    return prediction,time"
   ]
  },
  {
   "cell_type": "code",
   "execution_count": 8,
   "metadata": {},
   "outputs": [
    {
     "name": "stdout",
     "output_type": "stream",
     "text": [
      "Loyalti score for card C_ID_d69d9f43a5 is -1.34231 and total prediction time is 0.00499\n",
      "Loyalti score for card C_ID_e596d4b8c7 is -0.09743 and total prediction time is 0.00200\n",
      "Loyalti score for card C_ID_dc040935cd is -1.18531 and total prediction time is 0.00200\n",
      "Loyalti score for card C_ID_f913187ae1 is -0.00374 and total prediction time is 0.00100\n",
      "Loyalti score for card C_ID_e7b379fadd is -0.08194 and total prediction time is 0.00198\n",
      "Loyalti score for card C_ID_645394d418 is -0.02107 and total prediction time is 0.00300\n",
      "Loyalti score for card C_ID_65d37a558b is -1.04715 and total prediction time is 0.00100\n",
      "Loyalti score for card C_ID_aad2ffe4d1 is -0.31539 and total prediction time is 0.00100\n",
      "Loyalti score for card C_ID_b9408839ee is 0.23781 and total prediction time is 0.00100\n",
      "Loyalti score for card C_ID_3a86dd85bb is 0.26651 and total prediction time is 0.00100\n",
      "Loyalti score for card C_ID_fa111b6ee3 is 0.01743 and total prediction time is 0.00200\n",
      "Loyalti score for card C_ID_c3616db2a5 is 1.27253 and total prediction time is 0.00100\n",
      "Loyalti score for card C_ID_528ecf9cdd is -0.95667 and total prediction time is 0.00100\n",
      "Loyalti score for card C_ID_b678724a2c is -1.04623 and total prediction time is 0.00100\n",
      "Loyalti score for card C_ID_85a112b55e is -0.02710 and total prediction time is 0.00100\n",
      "Loyalti score for card C_ID_81de3b8f9e is 0.96767 and total prediction time is 0.00200\n",
      "Loyalti score for card C_ID_7ddd834fce is 0.33361 and total prediction time is 0.00200\n",
      "Loyalti score for card C_ID_1c73f24f7a is -0.15184 and total prediction time is 0.00200\n",
      "Loyalti score for card C_ID_d026926a1a is -0.41754 and total prediction time is 0.00200\n",
      "Loyalti score for card C_ID_15e81d40e4 is -1.65697 and total prediction time is 0.00100\n",
      "Loyalti score for card C_ID_b65244a70d is -0.12157 and total prediction time is 0.00100\n",
      "Loyalti score for card C_ID_da2690c018 is -0.09200 and total prediction time is 0.00100\n",
      "Loyalti score for card C_ID_72ba2be61a is -0.81580 and total prediction time is 0.00100\n",
      "Loyalti score for card C_ID_8858e4d3e4 is -0.08077 and total prediction time is 0.00100\n",
      "Loyalti score for card C_ID_06ab707626 is -0.21150 and total prediction time is 0.00200\n",
      "Loyalti score for card C_ID_5f9191f669 is -0.99411 and total prediction time is 0.00200\n",
      "Loyalti score for card C_ID_e637d9db8f is 0.08576 and total prediction time is 0.00200\n",
      "Loyalti score for card C_ID_278bf74a8c is -0.37865 and total prediction time is 0.00100\n",
      "Loyalti score for card C_ID_2ae8be81ff is 0.74580 and total prediction time is 0.00100\n",
      "Loyalti score for card C_ID_9018876c3e is -0.21796 and total prediction time is 0.00100\n",
      "Loyalti score for card C_ID_6e6cac8464 is 0.88766 and total prediction time is 0.00100\n",
      "Loyalti score for card C_ID_45210bb2ab is 0.20278 and total prediction time is 0.00200\n",
      "Loyalti score for card C_ID_e6bd26bbed is -1.14667 and total prediction time is 0.00200\n",
      "Loyalti score for card C_ID_7c61a0e199 is -0.46641 and total prediction time is 0.00100\n",
      "Loyalti score for card C_ID_a2d0b75be8 is -0.37736 and total prediction time is 0.00100\n",
      "Loyalti score for card C_ID_4f4f0da655 is -0.45391 and total prediction time is 0.00100\n",
      "Loyalti score for card C_ID_6136ba8fbb is -0.56848 and total prediction time is 0.00100\n",
      "Loyalti score for card C_ID_9e522aff4d is -0.52286 and total prediction time is 0.00100\n",
      "Loyalti score for card C_ID_810b14ca18 is 0.07986 and total prediction time is 0.00200\n",
      "Loyalti score for card C_ID_c12e397657 is -0.91670 and total prediction time is 0.00200\n",
      "Loyalti score for card C_ID_55f2cda8a6 is -2.37001 and total prediction time is 0.00200\n",
      "Loyalti score for card C_ID_2a8e4a4117 is -0.04382 and total prediction time is 0.00200\n",
      "Loyalti score for card C_ID_390bb0eafc is -0.63636 and total prediction time is 0.00200\n",
      "Loyalti score for card C_ID_18b77e0a30 is -0.25708 and total prediction time is 0.00100\n",
      "Loyalti score for card C_ID_bcec51f153 is 0.78901 and total prediction time is 0.00100\n",
      "Loyalti score for card C_ID_91df891c3a is 0.09147 and total prediction time is 0.00100\n",
      "Loyalti score for card C_ID_da0ba74b0a is -0.80357 and total prediction time is 0.00200\n",
      "Loyalti score for card C_ID_7913892bdf is 0.57587 and total prediction time is 0.00200\n",
      "Loyalti score for card C_ID_fdd429673e is -0.45245 and total prediction time is 0.00200\n",
      "Loyalti score for card C_ID_c804a0cee7 is 0.24378 and total prediction time is 0.00100\n"
     ]
    }
   ],
   "source": [
    "# Perform testing on 50 random card_id from test set\n",
    "sample_set = test_df.sample(50)\n",
    "for i in sample_set.index.values:\n",
    "    pred = function1(i)\n",
    "    print('Loyalti score for card {} is {:.5f} and total prediction time is {:.5f}'.format(i,pred[0],pred[1]))"
   ]
  },
  {
   "cell_type": "code",
   "execution_count": null,
   "metadata": {},
   "outputs": [],
   "source": []
  }
 ],
 "metadata": {
  "kernelspec": {
   "display_name": "Python 3",
   "language": "python",
   "name": "python3"
  },
  "language_info": {
   "codemirror_mode": {
    "name": "ipython",
    "version": 3
   },
   "file_extension": ".py",
   "mimetype": "text/x-python",
   "name": "python",
   "nbconvert_exporter": "python",
   "pygments_lexer": "ipython3",
   "version": "3.7.7"
  }
 },
 "nbformat": 4,
 "nbformat_minor": 4
}
